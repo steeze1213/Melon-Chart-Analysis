{
  "nbformat": 4,
  "nbformat_minor": 0,
  "metadata": {
    "colab": {
      "provenance": [],
      "mount_file_id": "1wyjtJQtqmELBFBwvrB6r_EbqHVKTwvmK",
      "authorship_tag": "ABX9TyPmPOFhthLelG/o0oNBGvrw",
      "include_colab_link": true
    },
    "kernelspec": {
      "name": "python3",
      "display_name": "Python 3"
    },
    "language_info": {
      "name": "python"
    }
  },
  "cells": [
    {
      "cell_type": "markdown",
      "metadata": {
        "id": "view-in-github",
        "colab_type": "text"
      },
      "source": [
        "<a href=\"https://colab.research.google.com/github/steeze1213/Melon-Chart-Analysis/blob/main/Melon_Chart_Analysis/%EB%A9%9C%EB%A1%A0%EC%B0%A8%ED%8A%B8_%ED%86%B5%ED%95%A9.ipynb\" target=\"_parent\"><img src=\"https://colab.research.google.com/assets/colab-badge.svg\" alt=\"Open In Colab\"/></a>"
      ]
    },
    {
      "cell_type": "code",
      "execution_count": null,
      "metadata": {
        "id": "c3XcTpWtiXXN"
      },
      "outputs": [],
      "source": [
        "import pandas as pd\n",
        "import glob\n",
        "\n",
        "# 모든 csv 파일 경로 읽기\n",
        "file_path = '/content/drive/MyDrive/DS/최종 프로젝트/멜론차트/*.csv'\n",
        "all_files = glob.glob(file_path)\n",
        "\n",
        "# 각 파일을 DataFrame으로 불러와 리스트에 저장\n",
        "df_list = [pd.read_csv(file) for file in all_files]\n",
        "\n",
        "# 모든 DataFrame 합치기 (헤더는 첫 번째 파일의 헤더만 유지)\n",
        "merged_df = pd.concat(df_list, ignore_index=True)\n",
        "\n",
        "# 통합된 파일 저장\n",
        "merged_df.to_csv('/content/drive/MyDrive/DS/최종 프로젝트/멜론차트/통합_멜론차트_2003-2023.csv', index=False, encoding='utf-8-sig')\n"
      ]
    }
  ]
}